{
 "cells": [
  {
   "cell_type": "markdown",
   "id": "6d92c81b-415e-4b4a-85bb-e3e5c73bc26e",
   "metadata": {},
   "source": [
    "# Python Programming Language\n",
    "### Name : Anas Sohail\n",
    "### Assignmnet # 3"
   ]
  },
  {
   "cell_type": "code",
   "execution_count": 4,
   "id": "9219972d-dea9-4e8f-8201-32f4c320d9be",
   "metadata": {},
   "outputs": [
    {
     "name": "stdout",
     "output_type": "stream",
     "text": [
      "Twinkle, twinkle, little star,\n",
      "How I wonder what you are!\n",
      "Up above the world so high,\n",
      "Like a diamond in the sky.\n",
      "\n",
      "Twinkle, twinkle, little star,\n",
      "How I wonder what you are\n"
     ]
    }
   ],
   "source": [
    "# 1. Write a Python program to print the following string in a specific format (see theoutput).\n",
    "\n",
    "# Using ''' for multi line string\n",
    "print('''Twinkle, twinkle, little star,\n",
    "How I wonder what you are!\n",
    "Up above the world so high,\n",
    "Like a diamond in the sky.\n",
    "\n",
    "Twinkle, twinkle, little star,\n",
    "How I wonder what you are''')"
   ]
  },
  {
   "cell_type": "code",
   "execution_count": 8,
   "id": "d0296ea2-8207-4e2b-8e27-f67ee0a00cab",
   "metadata": {},
   "outputs": [
    {
     "name": "stdout",
     "output_type": "stream",
     "text": [
      "3.12.4 | packaged by Anaconda, Inc. | (main, Jun 18 2024, 15:03:56) [MSC v.1929 64 bit (AMD64)]\n"
     ]
    }
   ],
   "source": [
    "# 2. Write a Python program to get the Python version you are using\n",
    "import sys\n",
    "print(sys. version)"
   ]
  },
  {
   "cell_type": "code",
   "execution_count": 71,
   "id": "ab858c72-2dfb-45c3-a01c-02b9456d9551",
   "metadata": {},
   "outputs": [
    {
     "name": "stdout",
     "output_type": "stream",
     "text": [
      "The current date and time is: 2024-08-01 19:18:29.179398\n",
      "The current date and time is: 2024-08-01 19:18:29.179398\n"
     ]
    }
   ],
   "source": [
    "# 3. Write a Python program to display the current date and time.\n",
    "\n",
    "#Method 1\n",
    "\n",
    "#import datetime method\n",
    "import datetime\n",
    "current_date_time = datetime.datetime.now()\n",
    "\n",
    "#print current date time\n",
    "print(f\"The current date and time is: {current_date_time}\")\n",
    "\n",
    "\n",
    "# Method 2\n",
    "\n",
    "#import datetime method\n",
    "from datetime import datetime\n",
    "current_date_time = datetime.now()\n",
    "\n",
    "#print current date time\n",
    "print(f\"The current date and time is: {current_date_time}\")"
   ]
  },
  {
   "cell_type": "code",
   "execution_count": 64,
   "id": "2adb75e5-61de-4064-b332-2ec681063408",
   "metadata": {},
   "outputs": [
    {
     "name": "stdin",
     "output_type": "stream",
     "text": [
      "Enter value of radius! 4\n"
     ]
    },
    {
     "name": "stdout",
     "output_type": "stream",
     "text": [
      "The value of area by using radius is: 50.24\n"
     ]
    },
    {
     "name": "stdin",
     "output_type": "stream",
     "text": [
      "Enter value of radius! 4\n"
     ]
    },
    {
     "name": "stdout",
     "output_type": "stream",
     "text": [
      "The value of area by using radius is: 50.26548245743669\n"
     ]
    }
   ],
   "source": [
    "# 4. Write a Python program which accepts the radius of a circle from the user and compute the area.\n",
    "\n",
    "# Method 1\n",
    "\n",
    "# Take Input from user\n",
    "radius_given_by_user = int(input(\"Enter value of radius!\"))\n",
    "\n",
    "#user define value of pi\n",
    "pi = 3.14\n",
    "\n",
    "#formula of area\n",
    "area = pi * (radius_given_by_user ** 2)\n",
    "\n",
    "#print value of area by given radius value\n",
    "print(f\"The value of area by using radius is: {area}\")\n",
    "\n",
    "# Method 2\n",
    "\n",
    "# import math module\n",
    "import math\n",
    "\n",
    "# Take Input from user\n",
    "radius_given_by_user = int(input(\"Enter value of radius!\"))\n",
    "\n",
    "#formula of area\n",
    "area = math.pi * (radius_given_by_user ** 2)\n",
    "\n",
    "#print value of area by given radius value\n",
    "print(f\"The value of area by using radius is: {area}\")"
   ]
  },
  {
   "cell_type": "code",
   "execution_count": 69,
   "id": "c2b83c57-03e0-486b-ae28-c91613632923",
   "metadata": {},
   "outputs": [
    {
     "name": "stdin",
     "output_type": "stream",
     "text": [
      "Enter your first name:  Anas\n",
      "Enter your last name:  Sohail\n"
     ]
    },
    {
     "name": "stdout",
     "output_type": "stream",
     "text": [
      "Reverse Value of user input is: Sohail Anas\n"
     ]
    }
   ],
   "source": [
    "# 5. Write a Python program which accepts the user's first and last name and print them in\n",
    "# reverse order with a space between them.\n",
    "\n",
    "# Take input from user (first and last name)\n",
    "first_name = input(\"Enter your first name: \")\n",
    "last_name = input(\"Enter your last name: \")\n",
    "\n",
    "# print reverse name\n",
    "print(f\"Reverse Value of user input is: {last_name} {first_name}\")"
   ]
  },
  {
   "cell_type": "code",
   "execution_count": 68,
   "id": "888ac3d9-a1d7-4ede-83f7-53b67fc1cc4c",
   "metadata": {},
   "outputs": [
    {
     "name": "stdin",
     "output_type": "stream",
     "text": [
      "Enter first number: 54\n",
      "Enter second number: 76\n"
     ]
    },
    {
     "name": "stdout",
     "output_type": "stream",
     "text": [
      "The sum of 54 and 76 is: 130\n"
     ]
    }
   ],
   "source": [
    "# 6. Write a python program which takes two inputs from user and print them addition\n",
    "\n",
    "# Take input 2 numbers from user\n",
    "num1 = int(input(\"Enter first number:\"))\n",
    "num2 = int(input(\"Enter second number:\"))\n",
    "\n",
    "# print sum of 2 numbers\n",
    "print(f\"The sum of {num1} and {num2} is: {num1 + num2}\")"
   ]
  },
  {
   "cell_type": "code",
   "execution_count": 61,
   "id": "1d7919a5-2b4f-4ada-b228-b903b345aa9a",
   "metadata": {},
   "outputs": [
    {
     "name": "stdin",
     "output_type": "stream",
     "text": [
      "Enter marks 1 76\n",
      "Enter marks 2 88\n",
      "Enter marks 3 97\n",
      "Enter marks 4 66\n",
      "Enter marks 5 98\n"
     ]
    },
    {
     "name": "stdout",
     "output_type": "stream",
     "text": [
      "Average number is 85.0\n",
      "Grade B\n"
     ]
    }
   ],
   "source": [
    "# 7. Write a program which takes 5 inputs from user for different subject’s marks, total it and generate mark sheet using grades ?\n",
    "\n",
    "# take 5 inputs from user to find marks\n",
    "marks1 = int(input(\"Enter marks 1\"))\n",
    "marks2 = int(input(\"Enter marks 2\"))\n",
    "marks3 = int(input(\"Enter marks 3\"))\n",
    "marks4 = int(input(\"Enter marks 4\"))\n",
    "marks5 = int(input(\"Enter marks 5\"))\n",
    "\n",
    "#total of all obtain marks\n",
    "total_marks = marks1 + marks2 + marks3 + marks4 + marks5\n",
    "\n",
    "#average of total obtain marks\n",
    "avg_marks = total_marks / 5\n",
    "\n",
    "#print Grade by using average marks\n",
    "print(f\"Average number is {avg_marks}\")\n",
    "print(\"Grade A\") if avg_marks >= 90 else print(\"Grade B\") if avg_marks >= 80 and avg_marks < 90 else print(\"Grade C\") if avg_marks >=70 and avg_marks < 80 else print(\"Grade D\")    \n"
   ]
  },
  {
   "cell_type": "code",
   "execution_count": 35,
   "id": "80b5e2ad-ccbe-473e-a215-dbcf49792ece",
   "metadata": {},
   "outputs": [
    {
     "name": "stdin",
     "output_type": "stream",
     "text": [
      "Enter Number is: 44\n"
     ]
    },
    {
     "name": "stdout",
     "output_type": "stream",
     "text": [
      "Given Number 44 is even\n"
     ]
    }
   ],
   "source": [
    "# 8. Write a program which take input from user and identify that the given number is even or odd?\n",
    "\n",
    "#take input from user even or odd number\n",
    "input_user = int(input(\"Enter Number is:\"))\n",
    "\n",
    "#print and check whether user input is even or odd:\n",
    "print(f\"Given Number {input_user} is even\") if input_user % 2 == 0 else print(f\"Given Number {input_user} is odd\")"
   ]
  },
  {
   "cell_type": "code",
   "execution_count": 63,
   "id": "0420c615-f42e-40b8-9d49-8a8d2f00eb9e",
   "metadata": {},
   "outputs": [
    {
     "name": "stdout",
     "output_type": "stream",
     "text": [
      "Length of given list is: 6\n"
     ]
    }
   ],
   "source": [
    "# 9. Write a program which print the length of the list?\n",
    "list_num = [1, 2, 3, 4, 5, 6]\n",
    "\n",
    "# print length of list:\n",
    "print(f\"Length of given list is: {len(list_num)}\")"
   ]
  },
  {
   "cell_type": "code",
   "execution_count": 66,
   "id": "fdd87b7e-60f3-4bb3-b7d1-565b67b3c1f1",
   "metadata": {},
   "outputs": [
    {
     "name": "stdout",
     "output_type": "stream",
     "text": [
      "Sum of numeric value in list is: 8\n"
     ]
    }
   ],
   "source": [
    "# 10.Write a Python program to sum all the numeric items in a list?\n",
    "list_num = [1, 2, \"s\", \"v\", 5, \"a\"]\n",
    "\n",
    "# sum of specific numeric items from list through index\n",
    "sum_list = list_num[0] + list_num[1] + list_num[4]\n",
    "\n",
    "# print sum of specific items\n",
    "print(f\"Sum of numeric value in list is: {sum_list}\")"
   ]
  },
  {
   "cell_type": "code",
   "execution_count": 60,
   "id": "2e70d50f-9b95-4eb0-9033-164ebe2b437a",
   "metadata": {},
   "outputs": [
    {
     "name": "stdout",
     "output_type": "stream",
     "text": [
      "Largest Number from list is: 87\n",
      "Largest Number from list is: 87\n"
     ]
    }
   ],
   "source": [
    "# 11.Write a Python program to get the largest number from a numeric list.\n",
    "\n",
    "# Method 1\n",
    "\n",
    "# list of numeric items\n",
    "list_num = [55, 65, 21, 67, 87,23, 22]\n",
    "\n",
    "# sort in ascending order\n",
    "list_num.sort()\n",
    "\n",
    "# print largest number through index \n",
    "print(f\"Largest Number from list is: {list_num[-1]}\")\n",
    "\n",
    "\n",
    "\n",
    "#Method 2\n",
    "\n",
    "# list of numeric items\n",
    "list_num = [55, 65, 21, 67, 87,23, 22]\n",
    "\n",
    "# using max() function\n",
    "large_num = max(list_num)\n",
    "\n",
    "# print largest number\n",
    "print(f\"Largest Number from list is: {large_num}\")"
   ]
  },
  {
   "cell_type": "code",
   "execution_count": 65,
   "id": "ceb4da19-0761-43dc-af00-7a2c4faeeac9",
   "metadata": {},
   "outputs": [
    {
     "name": "stdout",
     "output_type": "stream",
     "text": [
      "the Number is less than 5 are: \n",
      "1\n",
      "1\n",
      "2\n",
      "2\n",
      "3\n",
      "3\n",
      "4\n",
      "4\n"
     ]
    }
   ],
   "source": [
    "# 12. Take a list, say for example this one:\n",
    "# a = [1, 1, 2, 3, 5, 8, 13, 21, 34, 55, 89]\n",
    "# Write a program that prints out all the elements of the list that are less than 5.\n",
    "\n",
    "# list of numeric items\n",
    "num_list = [1, 1, 2, 3, 5, 8, 13, 21, 34, 55, 89, 4, 3, 4, 2]\n",
    "num_list.sort()\n",
    "\n",
    "print(f\"the Number is less than 5 are: \")\n",
    "\n",
    "# using for loop to iterate num_list:\n",
    "for iteration in num_list:\n",
    "    # check condition for print value of less than 5\n",
    "    if iteration < 5:\n",
    "        print(iteration)"
   ]
  },
  {
   "cell_type": "code",
   "execution_count": null,
   "id": "ea6e0230-d8be-4f68-8fc1-7b964bb148fc",
   "metadata": {},
   "outputs": [],
   "source": []
  },
  {
   "cell_type": "code",
   "execution_count": null,
   "id": "13678f78-a33b-4656-9059-d2da5d63a302",
   "metadata": {},
   "outputs": [],
   "source": []
  }
 ],
 "metadata": {
  "kernelspec": {
   "display_name": "Python 3 (ipykernel)",
   "language": "python",
   "name": "python3"
  },
  "language_info": {
   "codemirror_mode": {
    "name": "ipython",
    "version": 3
   },
   "file_extension": ".py",
   "mimetype": "text/x-python",
   "name": "python",
   "nbconvert_exporter": "python",
   "pygments_lexer": "ipython3",
   "version": "3.12.4"
  }
 },
 "nbformat": 4,
 "nbformat_minor": 5
}
